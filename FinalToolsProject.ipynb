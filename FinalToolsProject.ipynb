{
 "cells": [
  {
   "cell_type": "markdown",
   "id": "59170694-3f45-4f34-bcc6-8e06acf40bc3",
   "metadata": {},
   "source": [
    "# My Jupyter Notebook on IBM Watson Studio"
   ]
  },
  {
   "cell_type": "markdown",
   "id": "f30bcd97-db6e-4ecc-b842-8b13f94a8c53",
   "metadata": {},
   "source": [
    "**Haley Hebelka**\n",
    "\n",
    "Nonqualified Operation Services Specialist "
   ]
  },
  {
   "cell_type": "markdown",
   "id": "4ad33256-00de-45cf-9d93-d4f4a860d286",
   "metadata": {},
   "source": [
    "*I am interested with data science to take numbers and images and turn them into something useful. I am looking to get into health care data science to be able to work on diseases and genomes.*"
   ]
  },
  {
   "cell_type": "markdown",
   "id": "525dedb9-2014-40a5-bc94-a2520392179d",
   "metadata": {},
   "source": [
    "### simple math equation "
   ]
  },
  {
   "cell_type": "code",
   "execution_count": 3,
   "id": "dd3adb74-320a-4575-8e71-a8dee3f17a4e",
   "metadata": {},
   "outputs": [
    {
     "data": {
      "text/plain": [
       "-3"
      ]
     },
     "execution_count": 3,
     "metadata": {},
     "output_type": "execute_result"
    }
   ],
   "source": [
    "1+1-5"
   ]
  },
  {
   "cell_type": "markdown",
   "id": "be44b15b-2446-4cae-b406-6e4fe1c7632d",
   "metadata": {},
   "source": [
    "- united states\n",
    "- canada \n",
    "- mexico\n",
    "1. united kingdom\n",
    "2. italy \n",
    "3. greece"
   ]
  },
  {
   "cell_type": "code",
   "execution_count": null,
   "id": "8980874f-521f-4bab-a5a2-572c20fb370e",
   "metadata": {},
   "outputs": [],
   "source": []
  }
 ],
 "metadata": {
  "kernelspec": {
   "display_name": "Python",
   "language": "python",
   "name": "conda-env-python-py"
  },
  "language_info": {
   "codemirror_mode": {
    "name": "ipython",
    "version": 3
   },
   "file_extension": ".py",
   "mimetype": "text/x-python",
   "name": "python",
   "nbconvert_exporter": "python",
   "pygments_lexer": "ipython3",
   "version": "3.7.12"
  }
 },
 "nbformat": 4,
 "nbformat_minor": 5
}
